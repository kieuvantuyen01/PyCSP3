{
 "cells": [
  {
   "cell_type": "code",
   "execution_count": 1,
   "metadata": {},
   "outputs": [],
   "source": [
    "from pycsp3 import *"
   ]
  },
  {
   "cell_type": "code",
   "execution_count": 2,
   "metadata": {},
   "outputs": [],
   "source": [
    "# nGroups is the number of groups\n",
    "nGroups = 3\n",
    "\n",
    "# size is the number of players in each group\n",
    "size = 3\n",
    "\n",
    "# nWeeks is the number of weeks\n",
    "nWeeks = 4\n",
    "\n",
    "# nPlayers is the total number of players\n",
    "nPlayers = nGroups * size"
   ]
  },
  {
   "cell_type": "code",
   "execution_count": 3,
   "metadata": {},
   "outputs": [],
   "source": [
    "# x[w][p] is the group of player p at week w\n",
    "x = VarArray(size=[nWeeks, nPlayers], dom=range(nGroups))"
   ]
  },
  {
   "cell_type": "code",
   "execution_count": 4,
   "metadata": {},
   "outputs": [
    {
     "name": "stdout",
     "output_type": "stream",
     "text": [
      "Array x:  [\n",
      "  [x[0][0], x[0][1], x[0][2], x[0][3], x[0][4], x[0][5], x[0][6], x[0][7], x[0][8]]\n",
      "  [x[1][0], x[1][1], x[1][2], x[1][3], x[1][4], x[1][5], x[1][6], x[1][7], x[1][8]]\n",
      "  [x[2][0], x[2][1], x[2][2], x[2][3], x[2][4], x[2][5], x[2][6], x[2][7], x[2][8]]\n",
      "  [x[3][0], x[3][1], x[3][2], x[3][3], x[3][4], x[3][5], x[3][6], x[3][7], x[3][8]]\n",
      "]\n",
      "Domain of any variable:  0..2\n"
     ]
    }
   ],
   "source": [
    "print(\"Array x: \", x)\n",
    "print(\"Domain of any variable: \", x[0][0].dom)"
   ]
  },
  {
   "cell_type": "code",
   "execution_count": 5,
   "metadata": {},
   "outputs": [
    {
     "data": {
      "text/plain": [
       "intension(function:imp(eq(x[0][0],x[0][1]),ne(x[1][0],x[1][1])))\n",
       "intension(function:imp(eq(x[0][0],x[0][2]),ne(x[1][0],x[1][2])))\n",
       "intension(function:imp(eq(x[0][0],x[0][3]),ne(x[1][0],x[1][3])))\n",
       "intension(function:imp(eq(x[0][0],x[0][4]),ne(x[1][0],x[1][4])))\n",
       "intension(function:imp(eq(x[0][0],x[0][5]),ne(x[1][0],x[1][5])))\n",
       "intension(function:imp(eq(x[0][0],x[0][6]),ne(x[1][0],x[1][6])))\n",
       "intension(function:imp(eq(x[0][0],x[0][7]),ne(x[1][0],x[1][7])))\n",
       "intension(function:imp(eq(x[0][0],x[0][8]),ne(x[1][0],x[1][8])))\n",
       "intension(function:imp(eq(x[0][1],x[0][2]),ne(x[1][1],x[1][2])))\n",
       "intension(function:imp(eq(x[0][1],x[0][3]),ne(x[1][1],x[1][3])))\n",
       "intension(function:imp(eq(x[0][1],x[0][4]),ne(x[1][1],x[1][4])))\n",
       "intension(function:imp(eq(x[0][1],x[0][5]),ne(x[1][1],x[1][5])))\n",
       "intension(function:imp(eq(x[0][1],x[0][6]),ne(x[1][1],x[1][6])))\n",
       "intension(function:imp(eq(x[0][1],x[0][7]),ne(x[1][1],x[1][7])))\n",
       "intension(function:imp(eq(x[0][1],x[0][8]),ne(x[1][1],x[1][8])))\n",
       "intension(function:imp(eq(x[0][2],x[0][3]),ne(x[1][2],x[1][3])))\n",
       "intension(function:imp(eq(x[0][2],x[0][4]),ne(x[1][2],x[1][4])))\n",
       "intension(function:imp(eq(x[0][2],x[0][5]),ne(x[1][2],x[1][5])))\n",
       "intension(function:imp(eq(x[0][2],x[0][6]),ne(x[1][2],x[1][6])))\n",
       "intension(function:imp(eq(x[0][2],x[0][7]),ne(x[1][2],x[1][7])))\n",
       "intension(function:imp(eq(x[0][2],x[0][8]),ne(x[1][2],x[1][8])))\n",
       "intension(function:imp(eq(x[0][3],x[0][4]),ne(x[1][3],x[1][4])))\n",
       "intension(function:imp(eq(x[0][3],x[0][5]),ne(x[1][3],x[1][5])))\n",
       "intension(function:imp(eq(x[0][3],x[0][6]),ne(x[1][3],x[1][6])))\n",
       "intension(function:imp(eq(x[0][3],x[0][7]),ne(x[1][3],x[1][7])))\n",
       "intension(function:imp(eq(x[0][3],x[0][8]),ne(x[1][3],x[1][8])))\n",
       "intension(function:imp(eq(x[0][4],x[0][5]),ne(x[1][4],x[1][5])))\n",
       "intension(function:imp(eq(x[0][4],x[0][6]),ne(x[1][4],x[1][6])))\n",
       "intension(function:imp(eq(x[0][4],x[0][7]),ne(x[1][4],x[1][7])))\n",
       "intension(function:imp(eq(x[0][4],x[0][8]),ne(x[1][4],x[1][8])))\n",
       "intension(function:imp(eq(x[0][5],x[0][6]),ne(x[1][5],x[1][6])))\n",
       "intension(function:imp(eq(x[0][5],x[0][7]),ne(x[1][5],x[1][7])))\n",
       "intension(function:imp(eq(x[0][5],x[0][8]),ne(x[1][5],x[1][8])))\n",
       "intension(function:imp(eq(x[0][6],x[0][7]),ne(x[1][6],x[1][7])))\n",
       "intension(function:imp(eq(x[0][6],x[0][8]),ne(x[1][6],x[1][8])))\n",
       "intension(function:imp(eq(x[0][7],x[0][8]),ne(x[1][7],x[1][8])))\n",
       "intension(function:imp(eq(x[0][0],x[0][1]),ne(x[2][0],x[2][1])))\n",
       "intension(function:imp(eq(x[0][0],x[0][2]),ne(x[2][0],x[2][2])))\n",
       "intension(function:imp(eq(x[0][0],x[0][3]),ne(x[2][0],x[2][3])))\n",
       "intension(function:imp(eq(x[0][0],x[0][4]),ne(x[2][0],x[2][4])))\n",
       "intension(function:imp(eq(x[0][0],x[0][5]),ne(x[2][0],x[2][5])))\n",
       "intension(function:imp(eq(x[0][0],x[0][6]),ne(x[2][0],x[2][6])))\n",
       "intension(function:imp(eq(x[0][0],x[0][7]),ne(x[2][0],x[2][7])))\n",
       "intension(function:imp(eq(x[0][0],x[0][8]),ne(x[2][0],x[2][8])))\n",
       "intension(function:imp(eq(x[0][1],x[0][2]),ne(x[2][1],x[2][2])))\n",
       "intension(function:imp(eq(x[0][1],x[0][3]),ne(x[2][1],x[2][3])))\n",
       "intension(function:imp(eq(x[0][1],x[0][4]),ne(x[2][1],x[2][4])))\n",
       "intension(function:imp(eq(x[0][1],x[0][5]),ne(x[2][1],x[2][5])))\n",
       "intension(function:imp(eq(x[0][1],x[0][6]),ne(x[2][1],x[2][6])))\n",
       "intension(function:imp(eq(x[0][1],x[0][7]),ne(x[2][1],x[2][7])))\n",
       "intension(function:imp(eq(x[0][1],x[0][8]),ne(x[2][1],x[2][8])))\n",
       "intension(function:imp(eq(x[0][2],x[0][3]),ne(x[2][2],x[2][3])))\n",
       "intension(function:imp(eq(x[0][2],x[0][4]),ne(x[2][2],x[2][4])))\n",
       "intension(function:imp(eq(x[0][2],x[0][5]),ne(x[2][2],x[2][5])))\n",
       "intension(function:imp(eq(x[0][2],x[0][6]),ne(x[2][2],x[2][6])))\n",
       "intension(function:imp(eq(x[0][2],x[0][7]),ne(x[2][2],x[2][7])))\n",
       "intension(function:imp(eq(x[0][2],x[0][8]),ne(x[2][2],x[2][8])))\n",
       "intension(function:imp(eq(x[0][3],x[0][4]),ne(x[2][3],x[2][4])))\n",
       "intension(function:imp(eq(x[0][3],x[0][5]),ne(x[2][3],x[2][5])))\n",
       "intension(function:imp(eq(x[0][3],x[0][6]),ne(x[2][3],x[2][6])))\n",
       "intension(function:imp(eq(x[0][3],x[0][7]),ne(x[2][3],x[2][7])))\n",
       "intension(function:imp(eq(x[0][3],x[0][8]),ne(x[2][3],x[2][8])))\n",
       "intension(function:imp(eq(x[0][4],x[0][5]),ne(x[2][4],x[2][5])))\n",
       "intension(function:imp(eq(x[0][4],x[0][6]),ne(x[2][4],x[2][6])))\n",
       "intension(function:imp(eq(x[0][4],x[0][7]),ne(x[2][4],x[2][7])))\n",
       "intension(function:imp(eq(x[0][4],x[0][8]),ne(x[2][4],x[2][8])))\n",
       "intension(function:imp(eq(x[0][5],x[0][6]),ne(x[2][5],x[2][6])))\n",
       "intension(function:imp(eq(x[0][5],x[0][7]),ne(x[2][5],x[2][7])))\n",
       "intension(function:imp(eq(x[0][5],x[0][8]),ne(x[2][5],x[2][8])))\n",
       "intension(function:imp(eq(x[0][6],x[0][7]),ne(x[2][6],x[2][7])))\n",
       "intension(function:imp(eq(x[0][6],x[0][8]),ne(x[2][6],x[2][8])))\n",
       "intension(function:imp(eq(x[0][7],x[0][8]),ne(x[2][7],x[2][8])))\n",
       "intension(function:imp(eq(x[0][0],x[0][1]),ne(x[3][0],x[3][1])))\n",
       "intension(function:imp(eq(x[0][0],x[0][2]),ne(x[3][0],x[3][2])))\n",
       "intension(function:imp(eq(x[0][0],x[0][3]),ne(x[3][0],x[3][3])))\n",
       "intension(function:imp(eq(x[0][0],x[0][4]),ne(x[3][0],x[3][4])))\n",
       "intension(function:imp(eq(x[0][0],x[0][5]),ne(x[3][0],x[3][5])))\n",
       "intension(function:imp(eq(x[0][0],x[0][6]),ne(x[3][0],x[3][6])))\n",
       "intension(function:imp(eq(x[0][0],x[0][7]),ne(x[3][0],x[3][7])))\n",
       "intension(function:imp(eq(x[0][0],x[0][8]),ne(x[3][0],x[3][8])))\n",
       "intension(function:imp(eq(x[0][1],x[0][2]),ne(x[3][1],x[3][2])))\n",
       "intension(function:imp(eq(x[0][1],x[0][3]),ne(x[3][1],x[3][3])))\n",
       "intension(function:imp(eq(x[0][1],x[0][4]),ne(x[3][1],x[3][4])))\n",
       "intension(function:imp(eq(x[0][1],x[0][5]),ne(x[3][1],x[3][5])))\n",
       "intension(function:imp(eq(x[0][1],x[0][6]),ne(x[3][1],x[3][6])))\n",
       "intension(function:imp(eq(x[0][1],x[0][7]),ne(x[3][1],x[3][7])))\n",
       "intension(function:imp(eq(x[0][1],x[0][8]),ne(x[3][1],x[3][8])))\n",
       "intension(function:imp(eq(x[0][2],x[0][3]),ne(x[3][2],x[3][3])))\n",
       "intension(function:imp(eq(x[0][2],x[0][4]),ne(x[3][2],x[3][4])))\n",
       "intension(function:imp(eq(x[0][2],x[0][5]),ne(x[3][2],x[3][5])))\n",
       "intension(function:imp(eq(x[0][2],x[0][6]),ne(x[3][2],x[3][6])))\n",
       "intension(function:imp(eq(x[0][2],x[0][7]),ne(x[3][2],x[3][7])))\n",
       "intension(function:imp(eq(x[0][2],x[0][8]),ne(x[3][2],x[3][8])))\n",
       "intension(function:imp(eq(x[0][3],x[0][4]),ne(x[3][3],x[3][4])))\n",
       "intension(function:imp(eq(x[0][3],x[0][5]),ne(x[3][3],x[3][5])))\n",
       "intension(function:imp(eq(x[0][3],x[0][6]),ne(x[3][3],x[3][6])))\n",
       "intension(function:imp(eq(x[0][3],x[0][7]),ne(x[3][3],x[3][7])))\n",
       "intension(function:imp(eq(x[0][3],x[0][8]),ne(x[3][3],x[3][8])))\n",
       "intension(function:imp(eq(x[0][4],x[0][5]),ne(x[3][4],x[3][5])))\n",
       "intension(function:imp(eq(x[0][4],x[0][6]),ne(x[3][4],x[3][6])))\n",
       "intension(function:imp(eq(x[0][4],x[0][7]),ne(x[3][4],x[3][7])))\n",
       "intension(function:imp(eq(x[0][4],x[0][8]),ne(x[3][4],x[3][8])))\n",
       "intension(function:imp(eq(x[0][5],x[0][6]),ne(x[3][5],x[3][6])))\n",
       "intension(function:imp(eq(x[0][5],x[0][7]),ne(x[3][5],x[3][7])))\n",
       "intension(function:imp(eq(x[0][5],x[0][8]),ne(x[3][5],x[3][8])))\n",
       "intension(function:imp(eq(x[0][6],x[0][7]),ne(x[3][6],x[3][7])))\n",
       "intension(function:imp(eq(x[0][6],x[0][8]),ne(x[3][6],x[3][8])))\n",
       "intension(function:imp(eq(x[0][7],x[0][8]),ne(x[3][7],x[3][8])))\n",
       "intension(function:imp(eq(x[1][0],x[1][1]),ne(x[2][0],x[2][1])))\n",
       "intension(function:imp(eq(x[1][0],x[1][2]),ne(x[2][0],x[2][2])))\n",
       "intension(function:imp(eq(x[1][0],x[1][3]),ne(x[2][0],x[2][3])))\n",
       "intension(function:imp(eq(x[1][0],x[1][4]),ne(x[2][0],x[2][4])))\n",
       "intension(function:imp(eq(x[1][0],x[1][5]),ne(x[2][0],x[2][5])))\n",
       "intension(function:imp(eq(x[1][0],x[1][6]),ne(x[2][0],x[2][6])))\n",
       "intension(function:imp(eq(x[1][0],x[1][7]),ne(x[2][0],x[2][7])))\n",
       "intension(function:imp(eq(x[1][0],x[1][8]),ne(x[2][0],x[2][8])))\n",
       "intension(function:imp(eq(x[1][1],x[1][2]),ne(x[2][1],x[2][2])))\n",
       "intension(function:imp(eq(x[1][1],x[1][3]),ne(x[2][1],x[2][3])))\n",
       "intension(function:imp(eq(x[1][1],x[1][4]),ne(x[2][1],x[2][4])))\n",
       "intension(function:imp(eq(x[1][1],x[1][5]),ne(x[2][1],x[2][5])))\n",
       "intension(function:imp(eq(x[1][1],x[1][6]),ne(x[2][1],x[2][6])))\n",
       "intension(function:imp(eq(x[1][1],x[1][7]),ne(x[2][1],x[2][7])))\n",
       "intension(function:imp(eq(x[1][1],x[1][8]),ne(x[2][1],x[2][8])))\n",
       "intension(function:imp(eq(x[1][2],x[1][3]),ne(x[2][2],x[2][3])))\n",
       "intension(function:imp(eq(x[1][2],x[1][4]),ne(x[2][2],x[2][4])))\n",
       "intension(function:imp(eq(x[1][2],x[1][5]),ne(x[2][2],x[2][5])))\n",
       "intension(function:imp(eq(x[1][2],x[1][6]),ne(x[2][2],x[2][6])))\n",
       "intension(function:imp(eq(x[1][2],x[1][7]),ne(x[2][2],x[2][7])))\n",
       "intension(function:imp(eq(x[1][2],x[1][8]),ne(x[2][2],x[2][8])))\n",
       "intension(function:imp(eq(x[1][3],x[1][4]),ne(x[2][3],x[2][4])))\n",
       "intension(function:imp(eq(x[1][3],x[1][5]),ne(x[2][3],x[2][5])))\n",
       "intension(function:imp(eq(x[1][3],x[1][6]),ne(x[2][3],x[2][6])))\n",
       "intension(function:imp(eq(x[1][3],x[1][7]),ne(x[2][3],x[2][7])))\n",
       "intension(function:imp(eq(x[1][3],x[1][8]),ne(x[2][3],x[2][8])))\n",
       "intension(function:imp(eq(x[1][4],x[1][5]),ne(x[2][4],x[2][5])))\n",
       "intension(function:imp(eq(x[1][4],x[1][6]),ne(x[2][4],x[2][6])))\n",
       "intension(function:imp(eq(x[1][4],x[1][7]),ne(x[2][4],x[2][7])))\n",
       "intension(function:imp(eq(x[1][4],x[1][8]),ne(x[2][4],x[2][8])))\n",
       "intension(function:imp(eq(x[1][5],x[1][6]),ne(x[2][5],x[2][6])))\n",
       "intension(function:imp(eq(x[1][5],x[1][7]),ne(x[2][5],x[2][7])))\n",
       "intension(function:imp(eq(x[1][5],x[1][8]),ne(x[2][5],x[2][8])))\n",
       "intension(function:imp(eq(x[1][6],x[1][7]),ne(x[2][6],x[2][7])))\n",
       "intension(function:imp(eq(x[1][6],x[1][8]),ne(x[2][6],x[2][8])))\n",
       "intension(function:imp(eq(x[1][7],x[1][8]),ne(x[2][7],x[2][8])))\n",
       "intension(function:imp(eq(x[1][0],x[1][1]),ne(x[3][0],x[3][1])))\n",
       "intension(function:imp(eq(x[1][0],x[1][2]),ne(x[3][0],x[3][2])))\n",
       "intension(function:imp(eq(x[1][0],x[1][3]),ne(x[3][0],x[3][3])))\n",
       "intension(function:imp(eq(x[1][0],x[1][4]),ne(x[3][0],x[3][4])))\n",
       "intension(function:imp(eq(x[1][0],x[1][5]),ne(x[3][0],x[3][5])))\n",
       "intension(function:imp(eq(x[1][0],x[1][6]),ne(x[3][0],x[3][6])))\n",
       "intension(function:imp(eq(x[1][0],x[1][7]),ne(x[3][0],x[3][7])))\n",
       "intension(function:imp(eq(x[1][0],x[1][8]),ne(x[3][0],x[3][8])))\n",
       "intension(function:imp(eq(x[1][1],x[1][2]),ne(x[3][1],x[3][2])))\n",
       "intension(function:imp(eq(x[1][1],x[1][3]),ne(x[3][1],x[3][3])))\n",
       "intension(function:imp(eq(x[1][1],x[1][4]),ne(x[3][1],x[3][4])))\n",
       "intension(function:imp(eq(x[1][1],x[1][5]),ne(x[3][1],x[3][5])))\n",
       "intension(function:imp(eq(x[1][1],x[1][6]),ne(x[3][1],x[3][6])))\n",
       "intension(function:imp(eq(x[1][1],x[1][7]),ne(x[3][1],x[3][7])))\n",
       "intension(function:imp(eq(x[1][1],x[1][8]),ne(x[3][1],x[3][8])))\n",
       "intension(function:imp(eq(x[1][2],x[1][3]),ne(x[3][2],x[3][3])))\n",
       "intension(function:imp(eq(x[1][2],x[1][4]),ne(x[3][2],x[3][4])))\n",
       "intension(function:imp(eq(x[1][2],x[1][5]),ne(x[3][2],x[3][5])))\n",
       "intension(function:imp(eq(x[1][2],x[1][6]),ne(x[3][2],x[3][6])))\n",
       "intension(function:imp(eq(x[1][2],x[1][7]),ne(x[3][2],x[3][7])))\n",
       "intension(function:imp(eq(x[1][2],x[1][8]),ne(x[3][2],x[3][8])))\n",
       "intension(function:imp(eq(x[1][3],x[1][4]),ne(x[3][3],x[3][4])))\n",
       "intension(function:imp(eq(x[1][3],x[1][5]),ne(x[3][3],x[3][5])))\n",
       "intension(function:imp(eq(x[1][3],x[1][6]),ne(x[3][3],x[3][6])))\n",
       "intension(function:imp(eq(x[1][3],x[1][7]),ne(x[3][3],x[3][7])))\n",
       "intension(function:imp(eq(x[1][3],x[1][8]),ne(x[3][3],x[3][8])))\n",
       "intension(function:imp(eq(x[1][4],x[1][5]),ne(x[3][4],x[3][5])))\n",
       "intension(function:imp(eq(x[1][4],x[1][6]),ne(x[3][4],x[3][6])))\n",
       "intension(function:imp(eq(x[1][4],x[1][7]),ne(x[3][4],x[3][7])))\n",
       "intension(function:imp(eq(x[1][4],x[1][8]),ne(x[3][4],x[3][8])))\n",
       "intension(function:imp(eq(x[1][5],x[1][6]),ne(x[3][5],x[3][6])))\n",
       "intension(function:imp(eq(x[1][5],x[1][7]),ne(x[3][5],x[3][7])))\n",
       "intension(function:imp(eq(x[1][5],x[1][8]),ne(x[3][5],x[3][8])))\n",
       "intension(function:imp(eq(x[1][6],x[1][7]),ne(x[3][6],x[3][7])))\n",
       "intension(function:imp(eq(x[1][6],x[1][8]),ne(x[3][6],x[3][8])))\n",
       "intension(function:imp(eq(x[1][7],x[1][8]),ne(x[3][7],x[3][8])))\n",
       "intension(function:imp(eq(x[2][0],x[2][1]),ne(x[3][0],x[3][1])))\n",
       "intension(function:imp(eq(x[2][0],x[2][2]),ne(x[3][0],x[3][2])))\n",
       "intension(function:imp(eq(x[2][0],x[2][3]),ne(x[3][0],x[3][3])))\n",
       "intension(function:imp(eq(x[2][0],x[2][4]),ne(x[3][0],x[3][4])))\n",
       "intension(function:imp(eq(x[2][0],x[2][5]),ne(x[3][0],x[3][5])))\n",
       "intension(function:imp(eq(x[2][0],x[2][6]),ne(x[3][0],x[3][6])))\n",
       "intension(function:imp(eq(x[2][0],x[2][7]),ne(x[3][0],x[3][7])))\n",
       "intension(function:imp(eq(x[2][0],x[2][8]),ne(x[3][0],x[3][8])))\n",
       "intension(function:imp(eq(x[2][1],x[2][2]),ne(x[3][1],x[3][2])))\n",
       "intension(function:imp(eq(x[2][1],x[2][3]),ne(x[3][1],x[3][3])))\n",
       "intension(function:imp(eq(x[2][1],x[2][4]),ne(x[3][1],x[3][4])))\n",
       "intension(function:imp(eq(x[2][1],x[2][5]),ne(x[3][1],x[3][5])))\n",
       "intension(function:imp(eq(x[2][1],x[2][6]),ne(x[3][1],x[3][6])))\n",
       "intension(function:imp(eq(x[2][1],x[2][7]),ne(x[3][1],x[3][7])))\n",
       "intension(function:imp(eq(x[2][1],x[2][8]),ne(x[3][1],x[3][8])))\n",
       "intension(function:imp(eq(x[2][2],x[2][3]),ne(x[3][2],x[3][3])))\n",
       "intension(function:imp(eq(x[2][2],x[2][4]),ne(x[3][2],x[3][4])))\n",
       "intension(function:imp(eq(x[2][2],x[2][5]),ne(x[3][2],x[3][5])))\n",
       "intension(function:imp(eq(x[2][2],x[2][6]),ne(x[3][2],x[3][6])))\n",
       "intension(function:imp(eq(x[2][2],x[2][7]),ne(x[3][2],x[3][7])))\n",
       "intension(function:imp(eq(x[2][2],x[2][8]),ne(x[3][2],x[3][8])))\n",
       "intension(function:imp(eq(x[2][3],x[2][4]),ne(x[3][3],x[3][4])))\n",
       "intension(function:imp(eq(x[2][3],x[2][5]),ne(x[3][3],x[3][5])))\n",
       "intension(function:imp(eq(x[2][3],x[2][6]),ne(x[3][3],x[3][6])))\n",
       "intension(function:imp(eq(x[2][3],x[2][7]),ne(x[3][3],x[3][7])))\n",
       "intension(function:imp(eq(x[2][3],x[2][8]),ne(x[3][3],x[3][8])))\n",
       "intension(function:imp(eq(x[2][4],x[2][5]),ne(x[3][4],x[3][5])))\n",
       "intension(function:imp(eq(x[2][4],x[2][6]),ne(x[3][4],x[3][6])))\n",
       "intension(function:imp(eq(x[2][4],x[2][7]),ne(x[3][4],x[3][7])))\n",
       "intension(function:imp(eq(x[2][4],x[2][8]),ne(x[3][4],x[3][8])))\n",
       "intension(function:imp(eq(x[2][5],x[2][6]),ne(x[3][5],x[3][6])))\n",
       "intension(function:imp(eq(x[2][5],x[2][7]),ne(x[3][5],x[3][7])))\n",
       "intension(function:imp(eq(x[2][5],x[2][8]),ne(x[3][5],x[3][8])))\n",
       "intension(function:imp(eq(x[2][6],x[2][7]),ne(x[3][6],x[3][7])))\n",
       "intension(function:imp(eq(x[2][6],x[2][8]),ne(x[3][6],x[3][8])))\n",
       "intension(function:imp(eq(x[2][7],x[2][8]),ne(x[3][7],x[3][8])))"
      ]
     },
     "execution_count": 5,
     "metadata": {},
     "output_type": "execute_result"
    }
   ],
   "source": [
    "satisfy(\n",
    "   # ensuring that two players don't meet more than one time\n",
    "   If(\n",
    "       x[w1][p1] == x[w1][p2],\n",
    "       Then=x[w2][p1] != x[w2][p2]\n",
    "   ) for w1, w2 in combinations(nWeeks, 2) for p1, p2 in combinations(nPlayers, 2)\n",
    ")"
   ]
  },
  {
   "cell_type": "code",
   "execution_count": 6,
   "metadata": {},
   "outputs": [
    {
     "name": "stdout",
     "output_type": "stream",
     "text": [
      "intension(function:imp(eq(x[0][0],x[0][1]),ne(x[1][0],x[1][1])))\n",
      "intension(function:imp(eq(x[0][0],x[0][2]),ne(x[1][0],x[1][2])))\n",
      "intension(function:imp(eq(x[0][0],x[0][3]),ne(x[1][0],x[1][3])))\n",
      "intension(function:imp(eq(x[0][0],x[0][4]),ne(x[1][0],x[1][4])))\n",
      "intension(function:imp(eq(x[0][0],x[0][5]),ne(x[1][0],x[1][5])))\n",
      "intension(function:imp(eq(x[0][0],x[0][6]),ne(x[1][0],x[1][6])))\n",
      "intension(function:imp(eq(x[0][0],x[0][7]),ne(x[1][0],x[1][7])))\n",
      "intension(function:imp(eq(x[0][0],x[0][8]),ne(x[1][0],x[1][8])))\n",
      "intension(function:imp(eq(x[0][1],x[0][2]),ne(x[1][1],x[1][2])))\n",
      "intension(function:imp(eq(x[0][1],x[0][3]),ne(x[1][1],x[1][3])))\n"
     ]
    }
   ],
   "source": [
    "print(posted()[:10])"
   ]
  },
  {
   "cell_type": "code",
   "execution_count": 7,
   "metadata": {},
   "outputs": [
    {
     "name": "stdout",
     "output_type": "stream",
     "text": [
      "[\n",
      "  [2, 1, 2, 1, 1, 0, 2, 0, 0]\n",
      "  [2, 1, 0, 0, 2, 0, 1, 2, 1]\n",
      "  [0, 0, 1, 2, 1, 0, 2, 2, 1]\n",
      "  [0, 1, 1, 0, 2, 2, 2, 1, 0]\n",
      "]\n"
     ]
    }
   ],
   "source": [
    "if solve() is SAT:\n",
    "    print(values(x))"
   ]
  },
  {
   "cell_type": "code",
   "execution_count": 8,
   "metadata": {},
   "outputs": [
    {
     "name": "stdout",
     "output_type": "stream",
     "text": [
      "Groups of week  0 [[5, 7, 8], [1, 3, 4], [0, 2, 6]]\n",
      "Groups of week  1 [[2, 3, 5], [1, 6, 8], [0, 4, 7]]\n",
      "Groups of week  2 [[0, 1, 5], [2, 4, 8], [3, 6, 7]]\n",
      "Groups of week  3 [[0, 3, 8], [1, 2, 7], [4, 5, 6]]\n"
     ]
    }
   ],
   "source": [
    "if solve() is SAT:\n",
    "    for w in range(nWeeks):\n",
    "        print(\"Groups of week \", w , [[p for p in range(nPlayers) if x[w][p].value == g] for g in range(nGroups)])"
   ]
  },
  {
   "cell_type": "code",
   "execution_count": 9,
   "metadata": {},
   "outputs": [],
   "source": [
    "satisfy(\n",
    "    # respecting the size of the groups\n",
    "    Cardinality(x[w], occurrences={i: size for i in range(nGroups)}) for w in range(nWeeks)\n",
    ");"
   ]
  },
  {
   "cell_type": "code",
   "execution_count": 11,
   "metadata": {},
   "outputs": [
    {
     "name": "stdout",
     "output_type": "stream",
     "text": [
      "cardinality(list:[x[3][0], x[3][1], x[3][2], x[3][3], x[3][4], x[3][5], x[3][6], x[3][7], x[3][8]], values:[0, 1, 2], occurs:[3, 3, 3])\n"
     ]
    }
   ],
   "source": [
    "print(posted(-1)[-1])"
   ]
  },
  {
   "cell_type": "code",
   "execution_count": 12,
   "metadata": {},
   "outputs": [],
   "source": [
    "satisfy(\n",
    "   # tag(symmetry-breaking)\n",
    "   LexIncreasing(x, matrix=True)\n",
    ");"
   ]
  },
  {
   "cell_type": "code",
   "execution_count": 13,
   "metadata": {},
   "outputs": [
    {
     "name": "stdout",
     "output_type": "stream",
     "text": [
      "[\n",
      "  [0, 0, 0, 1, 1, 1, 2, 2, 2]\n",
      "  [0, 1, 2, 0, 1, 2, 0, 1, 2]\n",
      "  [0, 1, 2, 1, 2, 0, 2, 0, 1]\n",
      "  [0, 1, 2, 2, 0, 1, 1, 2, 0]\n",
      "]\n"
     ]
    }
   ],
   "source": [
    "if solve() is SAT:\n",
    "    print(values(x))"
   ]
  },
  {
   "cell_type": "code",
   "execution_count": 14,
   "metadata": {},
   "outputs": [
    {
     "name": "stdout",
     "output_type": "stream",
     "text": [
      "Number of solutions:  36\n"
     ]
    }
   ],
   "source": [
    "if solve(sols=ALL) is SAT:\n",
    "    print(\"Number of solutions: \", n_solutions())"
   ]
  }
 ],
 "metadata": {
  "kernelspec": {
   "display_name": "Python 3",
   "language": "python",
   "name": "python3"
  },
  "language_info": {
   "codemirror_mode": {
    "name": "ipython",
    "version": 3
   },
   "file_extension": ".py",
   "mimetype": "text/x-python",
   "name": "python",
   "nbconvert_exporter": "python",
   "pygments_lexer": "ipython3",
   "version": "3.10.12"
  }
 },
 "nbformat": 4,
 "nbformat_minor": 2
}
